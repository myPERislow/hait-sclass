{
 "cells": [
  {
   "cell_type": "markdown",
   "metadata": {},
   "source": [
    "まずはとりあえず一番大きい相関係数が大きいやつの多項式回帰⇨変数を増やして、多項式回帰"
   ]
  },
  {
   "cell_type": "code",
   "execution_count": 1,
   "metadata": {
    "collapsed": true
   },
   "outputs": [],
   "source": [
    "# 必要なライブラリのインポート\n",
    "import numpy as np\n",
    "import pandas as pd\n",
    "import matplotlib.pyplot as plt\n",
    "% matplotlib inline"
   ]
  },
  {
   "cell_type": "markdown",
   "metadata": {},
   "source": [
    "データの読み込みをするよ"
   ]
  },
  {
   "cell_type": "code",
   "execution_count": 2,
   "metadata": {
    "collapsed": true
   },
   "outputs": [],
   "source": [
    "train_df = pd.read_csv('train.csv')\n",
    "test_df = pd.read_csv('test.csv')"
   ]
  },
  {
   "cell_type": "code",
   "execution_count": 3,
   "metadata": {},
   "outputs": [
    {
     "data": {
      "text/html": [
       "<div>\n",
       "<style>\n",
       "    .dataframe thead tr:only-child th {\n",
       "        text-align: right;\n",
       "    }\n",
       "\n",
       "    .dataframe thead th {\n",
       "        text-align: left;\n",
       "    }\n",
       "\n",
       "    .dataframe tbody tr th {\n",
       "        vertical-align: top;\n",
       "    }\n",
       "</style>\n",
       "<table border=\"1\" class=\"dataframe\">\n",
       "  <thead>\n",
       "    <tr style=\"text-align: right;\">\n",
       "      <th></th>\n",
       "      <th>MSSubClass</th>\n",
       "      <th>Neighborhood</th>\n",
       "      <th>OverallQual</th>\n",
       "      <th>YearBuilt</th>\n",
       "      <th>YearRemodAdd</th>\n",
       "      <th>MasVnrType</th>\n",
       "      <th>MasVnrArea</th>\n",
       "      <th>ExterQual</th>\n",
       "      <th>Foundation</th>\n",
       "      <th>BsmtQual</th>\n",
       "      <th>...</th>\n",
       "      <th>FullBath</th>\n",
       "      <th>KitchenQual</th>\n",
       "      <th>TotRmsAbvGrd</th>\n",
       "      <th>Fireplaces</th>\n",
       "      <th>GarageType</th>\n",
       "      <th>GarageYrBlt</th>\n",
       "      <th>GarageFinish</th>\n",
       "      <th>GarageCars</th>\n",
       "      <th>GarageArea</th>\n",
       "      <th>SalePrice</th>\n",
       "    </tr>\n",
       "  </thead>\n",
       "  <tbody>\n",
       "    <tr>\n",
       "      <th>MasVnrType</th>\n",
       "      <td>0.246813</td>\n",
       "      <td>0.400196</td>\n",
       "      <td>0.449358</td>\n",
       "      <td>0.420443</td>\n",
       "      <td>0.310870</td>\n",
       "      <td>1.000000</td>\n",
       "      <td>0.579165</td>\n",
       "      <td>0.415825</td>\n",
       "      <td>0.310319</td>\n",
       "      <td>0.393052</td>\n",
       "      <td>...</td>\n",
       "      <td>0.305025</td>\n",
       "      <td>0.362377</td>\n",
       "      <td>0.194912</td>\n",
       "      <td>0.199416</td>\n",
       "      <td>0.315218</td>\n",
       "      <td>0.343755</td>\n",
       "      <td>0.323321</td>\n",
       "      <td>0.429343</td>\n",
       "      <td>0.380290</td>\n",
       "      <td>0.426997</td>\n",
       "    </tr>\n",
       "    <tr>\n",
       "      <th>HeatingQC</th>\n",
       "      <td>0.305789</td>\n",
       "      <td>0.420371</td>\n",
       "      <td>0.457083</td>\n",
       "      <td>0.479935</td>\n",
       "      <td>0.519679</td>\n",
       "      <td>0.245128</td>\n",
       "      <td>0.159256</td>\n",
       "      <td>0.520027</td>\n",
       "      <td>0.519447</td>\n",
       "      <td>0.410107</td>\n",
       "      <td>...</td>\n",
       "      <td>0.342358</td>\n",
       "      <td>0.504228</td>\n",
       "      <td>0.159916</td>\n",
       "      <td>0.129689</td>\n",
       "      <td>0.276766</td>\n",
       "      <td>0.476886</td>\n",
       "      <td>0.376344</td>\n",
       "      <td>0.337794</td>\n",
       "      <td>0.295462</td>\n",
       "      <td>0.427649</td>\n",
       "    </tr>\n",
       "    <tr>\n",
       "      <th>GarageType</th>\n",
       "      <td>0.510706</td>\n",
       "      <td>0.456575</td>\n",
       "      <td>0.420713</td>\n",
       "      <td>0.519992</td>\n",
       "      <td>0.387933</td>\n",
       "      <td>0.315218</td>\n",
       "      <td>0.221484</td>\n",
       "      <td>0.378696</td>\n",
       "      <td>0.401139</td>\n",
       "      <td>0.424760</td>\n",
       "      <td>...</td>\n",
       "      <td>0.364099</td>\n",
       "      <td>0.339323</td>\n",
       "      <td>0.203209</td>\n",
       "      <td>0.289770</td>\n",
       "      <td>1.000000</td>\n",
       "      <td>0.387758</td>\n",
       "      <td>0.568232</td>\n",
       "      <td>0.264771</td>\n",
       "      <td>0.209133</td>\n",
       "      <td>0.430770</td>\n",
       "    </tr>\n",
       "    <tr>\n",
       "      <th>Fireplaces</th>\n",
       "      <td>0.283353</td>\n",
       "      <td>0.315569</td>\n",
       "      <td>0.396765</td>\n",
       "      <td>0.214032</td>\n",
       "      <td>0.162493</td>\n",
       "      <td>0.199416</td>\n",
       "      <td>0.247906</td>\n",
       "      <td>0.249335</td>\n",
       "      <td>0.113338</td>\n",
       "      <td>0.227714</td>\n",
       "      <td>...</td>\n",
       "      <td>0.244451</td>\n",
       "      <td>0.256409</td>\n",
       "      <td>0.319088</td>\n",
       "      <td>1.000000</td>\n",
       "      <td>0.289770</td>\n",
       "      <td>0.127751</td>\n",
       "      <td>0.269653</td>\n",
       "      <td>0.300840</td>\n",
       "      <td>0.269141</td>\n",
       "      <td>0.466929</td>\n",
       "    </tr>\n",
       "    <tr>\n",
       "      <th>MasVnrArea</th>\n",
       "      <td>0.212010</td>\n",
       "      <td>0.368029</td>\n",
       "      <td>0.410238</td>\n",
       "      <td>0.298983</td>\n",
       "      <td>0.193044</td>\n",
       "      <td>0.579165</td>\n",
       "      <td>1.000000</td>\n",
       "      <td>0.349637</td>\n",
       "      <td>0.209916</td>\n",
       "      <td>0.314065</td>\n",
       "      <td>...</td>\n",
       "      <td>0.266274</td>\n",
       "      <td>0.285190</td>\n",
       "      <td>0.280041</td>\n",
       "      <td>0.247906</td>\n",
       "      <td>0.221484</td>\n",
       "      <td>0.229848</td>\n",
       "      <td>0.251678</td>\n",
       "      <td>0.404375</td>\n",
       "      <td>0.372567</td>\n",
       "      <td>0.475241</td>\n",
       "    </tr>\n",
       "    <tr>\n",
       "      <th>MSSubClass</th>\n",
       "      <td>1.000000</td>\n",
       "      <td>0.532233</td>\n",
       "      <td>0.471136</td>\n",
       "      <td>0.572252</td>\n",
       "      <td>0.415910</td>\n",
       "      <td>0.246813</td>\n",
       "      <td>0.212010</td>\n",
       "      <td>0.393934</td>\n",
       "      <td>0.445768</td>\n",
       "      <td>0.423389</td>\n",
       "      <td>...</td>\n",
       "      <td>0.329673</td>\n",
       "      <td>0.391700</td>\n",
       "      <td>0.253413</td>\n",
       "      <td>0.283353</td>\n",
       "      <td>0.510706</td>\n",
       "      <td>0.408647</td>\n",
       "      <td>0.438262</td>\n",
       "      <td>0.397369</td>\n",
       "      <td>0.387789</td>\n",
       "      <td>0.476982</td>\n",
       "    </tr>\n",
       "    <tr>\n",
       "      <th>GarageFinish</th>\n",
       "      <td>0.438262</td>\n",
       "      <td>0.466576</td>\n",
       "      <td>0.491404</td>\n",
       "      <td>0.554784</td>\n",
       "      <td>0.446760</td>\n",
       "      <td>0.323321</td>\n",
       "      <td>0.251678</td>\n",
       "      <td>0.482143</td>\n",
       "      <td>0.487728</td>\n",
       "      <td>0.525068</td>\n",
       "      <td>...</td>\n",
       "      <td>0.420880</td>\n",
       "      <td>0.423690</td>\n",
       "      <td>0.224545</td>\n",
       "      <td>0.269653</td>\n",
       "      <td>0.568232</td>\n",
       "      <td>0.500379</td>\n",
       "      <td>1.000000</td>\n",
       "      <td>0.365879</td>\n",
       "      <td>0.301241</td>\n",
       "      <td>0.496031</td>\n",
       "    </tr>\n",
       "    <tr>\n",
       "      <th>Foundation</th>\n",
       "      <td>0.445768</td>\n",
       "      <td>0.576118</td>\n",
       "      <td>0.568969</td>\n",
       "      <td>0.699337</td>\n",
       "      <td>0.551916</td>\n",
       "      <td>0.310319</td>\n",
       "      <td>0.209916</td>\n",
       "      <td>0.597832</td>\n",
       "      <td>1.000000</td>\n",
       "      <td>0.621976</td>\n",
       "      <td>...</td>\n",
       "      <td>0.462312</td>\n",
       "      <td>0.533146</td>\n",
       "      <td>0.180213</td>\n",
       "      <td>0.113338</td>\n",
       "      <td>0.401139</td>\n",
       "      <td>0.644742</td>\n",
       "      <td>0.487728</td>\n",
       "      <td>0.458128</td>\n",
       "      <td>0.398155</td>\n",
       "      <td>0.505503</td>\n",
       "    </tr>\n",
       "    <tr>\n",
       "      <th>YearRemodAdd</th>\n",
       "      <td>0.415910</td>\n",
       "      <td>0.521638</td>\n",
       "      <td>0.552825</td>\n",
       "      <td>0.652419</td>\n",
       "      <td>1.000000</td>\n",
       "      <td>0.310870</td>\n",
       "      <td>0.193044</td>\n",
       "      <td>0.570870</td>\n",
       "      <td>0.551916</td>\n",
       "      <td>0.545541</td>\n",
       "      <td>...</td>\n",
       "      <td>0.452501</td>\n",
       "      <td>0.611669</td>\n",
       "      <td>0.217923</td>\n",
       "      <td>0.162493</td>\n",
       "      <td>0.387933</td>\n",
       "      <td>0.617250</td>\n",
       "      <td>0.446760</td>\n",
       "      <td>0.433995</td>\n",
       "      <td>0.390554</td>\n",
       "      <td>0.535370</td>\n",
       "    </tr>\n",
       "    <tr>\n",
       "      <th>GarageYrBlt</th>\n",
       "      <td>0.408647</td>\n",
       "      <td>0.579489</td>\n",
       "      <td>0.574261</td>\n",
       "      <td>0.768672</td>\n",
       "      <td>0.617250</td>\n",
       "      <td>0.343755</td>\n",
       "      <td>0.229848</td>\n",
       "      <td>0.590883</td>\n",
       "      <td>0.644742</td>\n",
       "      <td>0.642954</td>\n",
       "      <td>...</td>\n",
       "      <td>0.497623</td>\n",
       "      <td>0.536959</td>\n",
       "      <td>0.213629</td>\n",
       "      <td>0.127751</td>\n",
       "      <td>0.387758</td>\n",
       "      <td>1.000000</td>\n",
       "      <td>0.500379</td>\n",
       "      <td>0.485292</td>\n",
       "      <td>0.462037</td>\n",
       "      <td>0.535419</td>\n",
       "    </tr>\n",
       "    <tr>\n",
       "      <th>TotRmsAbvGrd</th>\n",
       "      <td>0.253413</td>\n",
       "      <td>0.282979</td>\n",
       "      <td>0.423438</td>\n",
       "      <td>0.246057</td>\n",
       "      <td>0.217923</td>\n",
       "      <td>0.194912</td>\n",
       "      <td>0.280041</td>\n",
       "      <td>0.308004</td>\n",
       "      <td>0.180213</td>\n",
       "      <td>0.238832</td>\n",
       "      <td>...</td>\n",
       "      <td>0.522919</td>\n",
       "      <td>0.295499</td>\n",
       "      <td>1.000000</td>\n",
       "      <td>0.319088</td>\n",
       "      <td>0.203209</td>\n",
       "      <td>0.213629</td>\n",
       "      <td>0.224545</td>\n",
       "      <td>0.399737</td>\n",
       "      <td>0.331666</td>\n",
       "      <td>0.537672</td>\n",
       "    </tr>\n",
       "    <tr>\n",
       "      <th>FullBath</th>\n",
       "      <td>0.329673</td>\n",
       "      <td>0.513701</td>\n",
       "      <td>0.552153</td>\n",
       "      <td>0.555510</td>\n",
       "      <td>0.452501</td>\n",
       "      <td>0.305025</td>\n",
       "      <td>0.266274</td>\n",
       "      <td>0.497192</td>\n",
       "      <td>0.462312</td>\n",
       "      <td>0.523471</td>\n",
       "      <td>...</td>\n",
       "      <td>1.000000</td>\n",
       "      <td>0.439960</td>\n",
       "      <td>0.522919</td>\n",
       "      <td>0.244451</td>\n",
       "      <td>0.364099</td>\n",
       "      <td>0.497623</td>\n",
       "      <td>0.420880</td>\n",
       "      <td>0.476583</td>\n",
       "      <td>0.416933</td>\n",
       "      <td>0.553851</td>\n",
       "    </tr>\n",
       "    <tr>\n",
       "      <th>1stFlrSF</th>\n",
       "      <td>0.237884</td>\n",
       "      <td>0.405290</td>\n",
       "      <td>0.476224</td>\n",
       "      <td>0.349924</td>\n",
       "      <td>0.295100</td>\n",
       "      <td>0.343786</td>\n",
       "      <td>0.342160</td>\n",
       "      <td>0.397835</td>\n",
       "      <td>0.208966</td>\n",
       "      <td>0.362984</td>\n",
       "      <td>...</td>\n",
       "      <td>0.383710</td>\n",
       "      <td>0.387027</td>\n",
       "      <td>0.392750</td>\n",
       "      <td>0.410531</td>\n",
       "      <td>0.305210</td>\n",
       "      <td>0.251468</td>\n",
       "      <td>0.296095</td>\n",
       "      <td>0.464177</td>\n",
       "      <td>0.489782</td>\n",
       "      <td>0.605852</td>\n",
       "    </tr>\n",
       "    <tr>\n",
       "      <th>TotalBsmtSF</th>\n",
       "      <td>0.291599</td>\n",
       "      <td>0.456092</td>\n",
       "      <td>0.537808</td>\n",
       "      <td>0.434021</td>\n",
       "      <td>0.328112</td>\n",
       "      <td>0.374961</td>\n",
       "      <td>0.362452</td>\n",
       "      <td>0.470580</td>\n",
       "      <td>0.357950</td>\n",
       "      <td>0.410438</td>\n",
       "      <td>...</td>\n",
       "      <td>0.328368</td>\n",
       "      <td>0.432630</td>\n",
       "      <td>0.265278</td>\n",
       "      <td>0.339519</td>\n",
       "      <td>0.323174</td>\n",
       "      <td>0.337550</td>\n",
       "      <td>0.335570</td>\n",
       "      <td>0.471133</td>\n",
       "      <td>0.486665</td>\n",
       "      <td>0.613581</td>\n",
       "    </tr>\n",
       "    <tr>\n",
       "      <th>YearBuilt</th>\n",
       "      <td>0.572252</td>\n",
       "      <td>0.683095</td>\n",
       "      <td>0.665203</td>\n",
       "      <td>1.000000</td>\n",
       "      <td>0.652419</td>\n",
       "      <td>0.420443</td>\n",
       "      <td>0.298983</td>\n",
       "      <td>0.638206</td>\n",
       "      <td>0.699337</td>\n",
       "      <td>0.707715</td>\n",
       "      <td>...</td>\n",
       "      <td>0.555510</td>\n",
       "      <td>0.575836</td>\n",
       "      <td>0.246057</td>\n",
       "      <td>0.214032</td>\n",
       "      <td>0.519992</td>\n",
       "      <td>0.768672</td>\n",
       "      <td>0.554784</td>\n",
       "      <td>0.570728</td>\n",
       "      <td>0.523139</td>\n",
       "      <td>0.619545</td>\n",
       "    </tr>\n",
       "    <tr>\n",
       "      <th>GarageArea</th>\n",
       "      <td>0.387789</td>\n",
       "      <td>0.529629</td>\n",
       "      <td>0.562022</td>\n",
       "      <td>0.523139</td>\n",
       "      <td>0.390554</td>\n",
       "      <td>0.380290</td>\n",
       "      <td>0.372567</td>\n",
       "      <td>0.495778</td>\n",
       "      <td>0.398155</td>\n",
       "      <td>0.458693</td>\n",
       "      <td>...</td>\n",
       "      <td>0.416933</td>\n",
       "      <td>0.489606</td>\n",
       "      <td>0.331666</td>\n",
       "      <td>0.269141</td>\n",
       "      <td>0.209133</td>\n",
       "      <td>0.462037</td>\n",
       "      <td>0.301241</td>\n",
       "      <td>0.865866</td>\n",
       "      <td>1.000000</td>\n",
       "      <td>0.623431</td>\n",
       "    </tr>\n",
       "    <tr>\n",
       "      <th>BsmtQual</th>\n",
       "      <td>0.423389</td>\n",
       "      <td>0.629227</td>\n",
       "      <td>0.644946</td>\n",
       "      <td>0.707715</td>\n",
       "      <td>0.545541</td>\n",
       "      <td>0.393052</td>\n",
       "      <td>0.314065</td>\n",
       "      <td>0.638241</td>\n",
       "      <td>0.621976</td>\n",
       "      <td>1.000000</td>\n",
       "      <td>...</td>\n",
       "      <td>0.523471</td>\n",
       "      <td>0.562345</td>\n",
       "      <td>0.238832</td>\n",
       "      <td>0.227714</td>\n",
       "      <td>0.424760</td>\n",
       "      <td>0.642954</td>\n",
       "      <td>0.525068</td>\n",
       "      <td>0.545306</td>\n",
       "      <td>0.458693</td>\n",
       "      <td>0.635361</td>\n",
       "    </tr>\n",
       "    <tr>\n",
       "      <th>KitchenQual</th>\n",
       "      <td>0.391700</td>\n",
       "      <td>0.566358</td>\n",
       "      <td>0.673331</td>\n",
       "      <td>0.575836</td>\n",
       "      <td>0.611669</td>\n",
       "      <td>0.362377</td>\n",
       "      <td>0.285190</td>\n",
       "      <td>0.716122</td>\n",
       "      <td>0.533146</td>\n",
       "      <td>0.562345</td>\n",
       "      <td>...</td>\n",
       "      <td>0.439960</td>\n",
       "      <td>1.000000</td>\n",
       "      <td>0.295499</td>\n",
       "      <td>0.256409</td>\n",
       "      <td>0.339323</td>\n",
       "      <td>0.536959</td>\n",
       "      <td>0.423690</td>\n",
       "      <td>0.535777</td>\n",
       "      <td>0.489606</td>\n",
       "      <td>0.659600</td>\n",
       "    </tr>\n",
       "    <tr>\n",
       "      <th>ExterQual</th>\n",
       "      <td>0.393934</td>\n",
       "      <td>0.631870</td>\n",
       "      <td>0.726278</td>\n",
       "      <td>0.638206</td>\n",
       "      <td>0.570870</td>\n",
       "      <td>0.415825</td>\n",
       "      <td>0.349637</td>\n",
       "      <td>1.000000</td>\n",
       "      <td>0.597832</td>\n",
       "      <td>0.638241</td>\n",
       "      <td>...</td>\n",
       "      <td>0.497192</td>\n",
       "      <td>0.716122</td>\n",
       "      <td>0.308004</td>\n",
       "      <td>0.249335</td>\n",
       "      <td>0.378696</td>\n",
       "      <td>0.590883</td>\n",
       "      <td>0.482143</td>\n",
       "      <td>0.557218</td>\n",
       "      <td>0.495778</td>\n",
       "      <td>0.682639</td>\n",
       "    </tr>\n",
       "    <tr>\n",
       "      <th>GarageCars</th>\n",
       "      <td>0.397369</td>\n",
       "      <td>0.585252</td>\n",
       "      <td>0.628715</td>\n",
       "      <td>0.570728</td>\n",
       "      <td>0.433995</td>\n",
       "      <td>0.429343</td>\n",
       "      <td>0.404375</td>\n",
       "      <td>0.557218</td>\n",
       "      <td>0.458128</td>\n",
       "      <td>0.545306</td>\n",
       "      <td>...</td>\n",
       "      <td>0.476583</td>\n",
       "      <td>0.535777</td>\n",
       "      <td>0.399737</td>\n",
       "      <td>0.300840</td>\n",
       "      <td>0.264771</td>\n",
       "      <td>0.485292</td>\n",
       "      <td>0.365879</td>\n",
       "      <td>1.000000</td>\n",
       "      <td>0.865866</td>\n",
       "      <td>0.692360</td>\n",
       "    </tr>\n",
       "    <tr>\n",
       "      <th>Neighborhood</th>\n",
       "      <td>0.532233</td>\n",
       "      <td>1.000000</td>\n",
       "      <td>0.667647</td>\n",
       "      <td>0.683095</td>\n",
       "      <td>0.521638</td>\n",
       "      <td>0.400196</td>\n",
       "      <td>0.368029</td>\n",
       "      <td>0.631870</td>\n",
       "      <td>0.576118</td>\n",
       "      <td>0.629227</td>\n",
       "      <td>...</td>\n",
       "      <td>0.513701</td>\n",
       "      <td>0.566358</td>\n",
       "      <td>0.282979</td>\n",
       "      <td>0.315569</td>\n",
       "      <td>0.456575</td>\n",
       "      <td>0.579489</td>\n",
       "      <td>0.466576</td>\n",
       "      <td>0.585252</td>\n",
       "      <td>0.529629</td>\n",
       "      <td>0.696882</td>\n",
       "    </tr>\n",
       "    <tr>\n",
       "      <th>GrLivArea</th>\n",
       "      <td>0.347673</td>\n",
       "      <td>0.411751</td>\n",
       "      <td>0.593007</td>\n",
       "      <td>0.369635</td>\n",
       "      <td>0.325158</td>\n",
       "      <td>0.248026</td>\n",
       "      <td>0.389893</td>\n",
       "      <td>0.435986</td>\n",
       "      <td>0.282314</td>\n",
       "      <td>0.369656</td>\n",
       "      <td>...</td>\n",
       "      <td>0.613537</td>\n",
       "      <td>0.420563</td>\n",
       "      <td>0.809778</td>\n",
       "      <td>0.461679</td>\n",
       "      <td>0.292680</td>\n",
       "      <td>0.310591</td>\n",
       "      <td>0.319453</td>\n",
       "      <td>0.490960</td>\n",
       "      <td>0.468997</td>\n",
       "      <td>0.708624</td>\n",
       "    </tr>\n",
       "    <tr>\n",
       "      <th>OverallQual</th>\n",
       "      <td>0.471136</td>\n",
       "      <td>0.667647</td>\n",
       "      <td>1.000000</td>\n",
       "      <td>0.665203</td>\n",
       "      <td>0.552825</td>\n",
       "      <td>0.449358</td>\n",
       "      <td>0.410238</td>\n",
       "      <td>0.726278</td>\n",
       "      <td>0.568969</td>\n",
       "      <td>0.644946</td>\n",
       "      <td>...</td>\n",
       "      <td>0.552153</td>\n",
       "      <td>0.673331</td>\n",
       "      <td>0.423438</td>\n",
       "      <td>0.396765</td>\n",
       "      <td>0.420713</td>\n",
       "      <td>0.574261</td>\n",
       "      <td>0.491404</td>\n",
       "      <td>0.628715</td>\n",
       "      <td>0.562022</td>\n",
       "      <td>0.790982</td>\n",
       "    </tr>\n",
       "    <tr>\n",
       "      <th>SalePrice</th>\n",
       "      <td>0.476982</td>\n",
       "      <td>0.696882</td>\n",
       "      <td>0.790982</td>\n",
       "      <td>0.619545</td>\n",
       "      <td>0.535370</td>\n",
       "      <td>0.426997</td>\n",
       "      <td>0.475241</td>\n",
       "      <td>0.682639</td>\n",
       "      <td>0.505503</td>\n",
       "      <td>0.635361</td>\n",
       "      <td>...</td>\n",
       "      <td>0.553851</td>\n",
       "      <td>0.659600</td>\n",
       "      <td>0.537672</td>\n",
       "      <td>0.466929</td>\n",
       "      <td>0.430770</td>\n",
       "      <td>0.535419</td>\n",
       "      <td>0.496031</td>\n",
       "      <td>0.692360</td>\n",
       "      <td>0.623431</td>\n",
       "      <td>1.000000</td>\n",
       "    </tr>\n",
       "  </tbody>\n",
       "</table>\n",
       "<p>24 rows × 24 columns</p>\n",
       "</div>"
      ],
      "text/plain": [
       "              MSSubClass  Neighborhood  OverallQual  YearBuilt  YearRemodAdd  \\\n",
       "MasVnrType      0.246813      0.400196     0.449358   0.420443      0.310870   \n",
       "HeatingQC       0.305789      0.420371     0.457083   0.479935      0.519679   \n",
       "GarageType      0.510706      0.456575     0.420713   0.519992      0.387933   \n",
       "Fireplaces      0.283353      0.315569     0.396765   0.214032      0.162493   \n",
       "MasVnrArea      0.212010      0.368029     0.410238   0.298983      0.193044   \n",
       "MSSubClass      1.000000      0.532233     0.471136   0.572252      0.415910   \n",
       "GarageFinish    0.438262      0.466576     0.491404   0.554784      0.446760   \n",
       "Foundation      0.445768      0.576118     0.568969   0.699337      0.551916   \n",
       "YearRemodAdd    0.415910      0.521638     0.552825   0.652419      1.000000   \n",
       "GarageYrBlt     0.408647      0.579489     0.574261   0.768672      0.617250   \n",
       "TotRmsAbvGrd    0.253413      0.282979     0.423438   0.246057      0.217923   \n",
       "FullBath        0.329673      0.513701     0.552153   0.555510      0.452501   \n",
       "1stFlrSF        0.237884      0.405290     0.476224   0.349924      0.295100   \n",
       "TotalBsmtSF     0.291599      0.456092     0.537808   0.434021      0.328112   \n",
       "YearBuilt       0.572252      0.683095     0.665203   1.000000      0.652419   \n",
       "GarageArea      0.387789      0.529629     0.562022   0.523139      0.390554   \n",
       "BsmtQual        0.423389      0.629227     0.644946   0.707715      0.545541   \n",
       "KitchenQual     0.391700      0.566358     0.673331   0.575836      0.611669   \n",
       "ExterQual       0.393934      0.631870     0.726278   0.638206      0.570870   \n",
       "GarageCars      0.397369      0.585252     0.628715   0.570728      0.433995   \n",
       "Neighborhood    0.532233      1.000000     0.667647   0.683095      0.521638   \n",
       "GrLivArea       0.347673      0.411751     0.593007   0.369635      0.325158   \n",
       "OverallQual     0.471136      0.667647     1.000000   0.665203      0.552825   \n",
       "SalePrice       0.476982      0.696882     0.790982   0.619545      0.535370   \n",
       "\n",
       "              MasVnrType  MasVnrArea  ExterQual  Foundation  BsmtQual  \\\n",
       "MasVnrType      1.000000    0.579165   0.415825    0.310319  0.393052   \n",
       "HeatingQC       0.245128    0.159256   0.520027    0.519447  0.410107   \n",
       "GarageType      0.315218    0.221484   0.378696    0.401139  0.424760   \n",
       "Fireplaces      0.199416    0.247906   0.249335    0.113338  0.227714   \n",
       "MasVnrArea      0.579165    1.000000   0.349637    0.209916  0.314065   \n",
       "MSSubClass      0.246813    0.212010   0.393934    0.445768  0.423389   \n",
       "GarageFinish    0.323321    0.251678   0.482143    0.487728  0.525068   \n",
       "Foundation      0.310319    0.209916   0.597832    1.000000  0.621976   \n",
       "YearRemodAdd    0.310870    0.193044   0.570870    0.551916  0.545541   \n",
       "GarageYrBlt     0.343755    0.229848   0.590883    0.644742  0.642954   \n",
       "TotRmsAbvGrd    0.194912    0.280041   0.308004    0.180213  0.238832   \n",
       "FullBath        0.305025    0.266274   0.497192    0.462312  0.523471   \n",
       "1stFlrSF        0.343786    0.342160   0.397835    0.208966  0.362984   \n",
       "TotalBsmtSF     0.374961    0.362452   0.470580    0.357950  0.410438   \n",
       "YearBuilt       0.420443    0.298983   0.638206    0.699337  0.707715   \n",
       "GarageArea      0.380290    0.372567   0.495778    0.398155  0.458693   \n",
       "BsmtQual        0.393052    0.314065   0.638241    0.621976  1.000000   \n",
       "KitchenQual     0.362377    0.285190   0.716122    0.533146  0.562345   \n",
       "ExterQual       0.415825    0.349637   1.000000    0.597832  0.638241   \n",
       "GarageCars      0.429343    0.404375   0.557218    0.458128  0.545306   \n",
       "Neighborhood    0.400196    0.368029   0.631870    0.576118  0.629227   \n",
       "GrLivArea       0.248026    0.389893   0.435986    0.282314  0.369656   \n",
       "OverallQual     0.449358    0.410238   0.726278    0.568969  0.644946   \n",
       "SalePrice       0.426997    0.475241   0.682639    0.505503  0.635361   \n",
       "\n",
       "                ...      FullBath  KitchenQual  TotRmsAbvGrd  Fireplaces  \\\n",
       "MasVnrType      ...      0.305025     0.362377      0.194912    0.199416   \n",
       "HeatingQC       ...      0.342358     0.504228      0.159916    0.129689   \n",
       "GarageType      ...      0.364099     0.339323      0.203209    0.289770   \n",
       "Fireplaces      ...      0.244451     0.256409      0.319088    1.000000   \n",
       "MasVnrArea      ...      0.266274     0.285190      0.280041    0.247906   \n",
       "MSSubClass      ...      0.329673     0.391700      0.253413    0.283353   \n",
       "GarageFinish    ...      0.420880     0.423690      0.224545    0.269653   \n",
       "Foundation      ...      0.462312     0.533146      0.180213    0.113338   \n",
       "YearRemodAdd    ...      0.452501     0.611669      0.217923    0.162493   \n",
       "GarageYrBlt     ...      0.497623     0.536959      0.213629    0.127751   \n",
       "TotRmsAbvGrd    ...      0.522919     0.295499      1.000000    0.319088   \n",
       "FullBath        ...      1.000000     0.439960      0.522919    0.244451   \n",
       "1stFlrSF        ...      0.383710     0.387027      0.392750    0.410531   \n",
       "TotalBsmtSF     ...      0.328368     0.432630      0.265278    0.339519   \n",
       "YearBuilt       ...      0.555510     0.575836      0.246057    0.214032   \n",
       "GarageArea      ...      0.416933     0.489606      0.331666    0.269141   \n",
       "BsmtQual        ...      0.523471     0.562345      0.238832    0.227714   \n",
       "KitchenQual     ...      0.439960     1.000000      0.295499    0.256409   \n",
       "ExterQual       ...      0.497192     0.716122      0.308004    0.249335   \n",
       "GarageCars      ...      0.476583     0.535777      0.399737    0.300840   \n",
       "Neighborhood    ...      0.513701     0.566358      0.282979    0.315569   \n",
       "GrLivArea       ...      0.613537     0.420563      0.809778    0.461679   \n",
       "OverallQual     ...      0.552153     0.673331      0.423438    0.396765   \n",
       "SalePrice       ...      0.553851     0.659600      0.537672    0.466929   \n",
       "\n",
       "              GarageType  GarageYrBlt  GarageFinish  GarageCars  GarageArea  \\\n",
       "MasVnrType      0.315218     0.343755      0.323321    0.429343    0.380290   \n",
       "HeatingQC       0.276766     0.476886      0.376344    0.337794    0.295462   \n",
       "GarageType      1.000000     0.387758      0.568232    0.264771    0.209133   \n",
       "Fireplaces      0.289770     0.127751      0.269653    0.300840    0.269141   \n",
       "MasVnrArea      0.221484     0.229848      0.251678    0.404375    0.372567   \n",
       "MSSubClass      0.510706     0.408647      0.438262    0.397369    0.387789   \n",
       "GarageFinish    0.568232     0.500379      1.000000    0.365879    0.301241   \n",
       "Foundation      0.401139     0.644742      0.487728    0.458128    0.398155   \n",
       "YearRemodAdd    0.387933     0.617250      0.446760    0.433995    0.390554   \n",
       "GarageYrBlt     0.387758     1.000000      0.500379    0.485292    0.462037   \n",
       "TotRmsAbvGrd    0.203209     0.213629      0.224545    0.399737    0.331666   \n",
       "FullBath        0.364099     0.497623      0.420880    0.476583    0.416933   \n",
       "1stFlrSF        0.305210     0.251468      0.296095    0.464177    0.489782   \n",
       "TotalBsmtSF     0.323174     0.337550      0.335570    0.471133    0.486665   \n",
       "YearBuilt       0.519992     0.768672      0.554784    0.570728    0.523139   \n",
       "GarageArea      0.209133     0.462037      0.301241    0.865866    1.000000   \n",
       "BsmtQual        0.424760     0.642954      0.525068    0.545306    0.458693   \n",
       "KitchenQual     0.339323     0.536959      0.423690    0.535777    0.489606   \n",
       "ExterQual       0.378696     0.590883      0.482143    0.557218    0.495778   \n",
       "GarageCars      0.264771     0.485292      0.365879    1.000000    0.865866   \n",
       "Neighborhood    0.456575     0.579489      0.466576    0.585252    0.529629   \n",
       "GrLivArea       0.292680     0.310591      0.319453    0.490960    0.468997   \n",
       "OverallQual     0.420713     0.574261      0.491404    0.628715    0.562022   \n",
       "SalePrice       0.430770     0.535419      0.496031    0.692360    0.623431   \n",
       "\n",
       "              SalePrice  \n",
       "MasVnrType     0.426997  \n",
       "HeatingQC      0.427649  \n",
       "GarageType     0.430770  \n",
       "Fireplaces     0.466929  \n",
       "MasVnrArea     0.475241  \n",
       "MSSubClass     0.476982  \n",
       "GarageFinish   0.496031  \n",
       "Foundation     0.505503  \n",
       "YearRemodAdd   0.535370  \n",
       "GarageYrBlt    0.535419  \n",
       "TotRmsAbvGrd   0.537672  \n",
       "FullBath       0.553851  \n",
       "1stFlrSF       0.605852  \n",
       "TotalBsmtSF    0.613581  \n",
       "YearBuilt      0.619545  \n",
       "GarageArea     0.623431  \n",
       "BsmtQual       0.635361  \n",
       "KitchenQual    0.659600  \n",
       "ExterQual      0.682639  \n",
       "GarageCars     0.692360  \n",
       "Neighborhood   0.696882  \n",
       "GrLivArea      0.708624  \n",
       "OverallQual    0.790982  \n",
       "SalePrice      1.000000  \n",
       "\n",
       "[24 rows x 24 columns]"
      ]
     },
     "execution_count": 3,
     "metadata": {},
     "output_type": "execute_result"
    }
   ],
   "source": [
    "#相関係数のが大きいやつをみる⇨sortするよ\n",
    "train_df.corr().sort_values(by='SalePrice')"
   ]
  },
  {
   "cell_type": "markdown",
   "metadata": {},
   "source": [
    "0.68以上のやつは5つ"
   ]
  },
  {
   "cell_type": "markdown",
   "metadata": {},
   "source": [
    "OverallQual、GrLivArea、Neighborhood、GarageCars、ExterQual"
   ]
  },
  {
   "cell_type": "code",
   "execution_count": 4,
   "metadata": {},
   "outputs": [],
   "source": [
    "#特徴量を抽出\n",
    "oq = train_df.loc[:,['OverallQual']].values\n",
    "gla = train_df.loc[:,['GrLivArea']].values\n",
    "nbh = train_df.loc[:,['Neighborhood']].values\n",
    "gc = train_df.loc[:,['GarageCars']].values\n",
    "eq = train_df.loc[:,['ExterQual']].values\n",
    "\n",
    "y = train_df.loc[:,['SalePrice']].values"
   ]
  },
  {
   "cell_type": "code",
   "execution_count": 5,
   "metadata": {},
   "outputs": [],
   "source": [
    "#ホールドアウト法によるデータの分類\n",
    "#random_stateを0に固定してあるので、毎回同じサンプルに分割\n",
    "from sklearn.model_selection import train_test_split\n",
    "oq_train,oq_test,y_train,y_test = train_test_split(oq,y,test_size=0.3,random_state = 0)"
   ]
  },
  {
   "cell_type": "code",
   "execution_count": 6,
   "metadata": {},
   "outputs": [
    {
     "data": {
      "text/plain": [
       "LinearRegression(copy_X=True, fit_intercept=True, n_jobs=1, normalize=False)"
      ]
     },
     "execution_count": 6,
     "metadata": {},
     "output_type": "execute_result"
    }
   ],
   "source": [
    "#線形回帰のモデルを学習させる\n",
    "from sklearn.linear_model import LinearRegression\n",
    "model_lin = LinearRegression()\n",
    "model_lin.fit(oq_train,y_train)"
   ]
  },
  {
   "cell_type": "markdown",
   "metadata": {},
   "source": [
    "線形回帰の学習結果を散布図に当てはめてみる。\n",
    "最小二乗法を利用する。"
   ]
  },
  {
   "cell_type": "code",
   "execution_count": 7,
   "metadata": {},
   "outputs": [
    {
     "data": {
      "image/png": "[encoded data removed]",
      "text/plain": [
       "<matplotlib.figure.Figure at 0x11524dac8>"
      ]
     },
     "metadata": {},
     "output_type": "display_data"
    }
   ],
   "source": [
    "#散布図に近似直線を重ねてみる\n",
    "plt.scatter(oq,y,color='lightgray',label='data')#散布図を表示\n",
    "x = np.arange(0,10,1)[:,np.newaxis]#プロットのためのxを用意\n",
    "plt.plot(x,model_lin.predict(x),color='red',label='linear')#回帰直線を表示\n",
    "plt.xlabel('OverallQual')#x軸のラベルを表示\n",
    "plt.ylabel('SalePrice')#y軸のラベルを表示\n",
    "plt.legend(loc='upper right')#凡例を表示\n",
    "plt.show()#上記の内容でグラフを表示"
   ]
  },
  {
   "cell_type": "markdown",
   "metadata": {},
   "source": [
    "なんか微妙だな、もっと次数を増やしてみよう"
   ]
  },
  {
   "cell_type": "code",
   "execution_count": 8,
   "metadata": {},
   "outputs": [
    {
     "data": {
      "text/plain": [
       "array([[  1.,   6.,  36.],\n",
       "       [  1.,   5.,  25.],\n",
       "       [  1.,   6.,  36.],\n",
       "       ..., \n",
       "       [  1.,   6.,  36.],\n",
       "       [  1.,   4.,  16.],\n",
       "       [  1.,   4.,  16.]])"
      ]
     },
     "execution_count": 8,
     "metadata": {},
     "output_type": "execute_result"
    }
   ],
   "source": [
    "#多項式基底の基底関数によって変数変換を行う。まずは二次関数の変数変換\n",
    "from sklearn.preprocessing import PolynomialFeatures\n",
    "quad = PolynomialFeatures(degree=2)#2次の多項式基底を生成\n",
    "oq_quad = quad.fit_transform(oq) #生成した基底関数で変数変換を実行\n",
    "oq_quad"
   ]
  },
  {
   "cell_type": "code",
   "execution_count": 9,
   "metadata": {
    "collapsed": true
   },
   "outputs": [],
   "source": [
    "#ホールド・アウト法によるデータの分類\n",
    "#random_stateを0に固定してあるので、毎回同じサンプルに分割\n",
    "oq_quad_train,oq_quad_test,_,_ = train_test_split(oq_quad,y,test_size=0.3,random_state=0)"
   ]
  },
  {
   "cell_type": "code",
   "execution_count": 10,
   "metadata": {},
   "outputs": [
    {
     "data": {
      "text/plain": [
       "LinearRegression(copy_X=True, fit_intercept=True, n_jobs=1, normalize=False)"
      ]
     },
     "execution_count": 10,
     "metadata": {},
     "output_type": "execute_result"
    }
   ],
   "source": [
    "#線形回帰のインスタンスを生成\n",
    "model_quad = LinearRegression()\n",
    "\n",
    "#変換後の変数を利用して実行\n",
    "model_quad.fit(oq_quad_train,y_train)"
   ]
  },
  {
   "cell_type": "markdown",
   "metadata": {},
   "source": [
    "当てはまり良くなってるかプロットしてみる"
   ]
  },
  {
   "cell_type": "code",
   "execution_count": 11,
   "metadata": {},
   "outputs": [
    {
     "data": {
      "image/png": "[encoded data removed]",
      "text/plain": [
       "<matplotlib.figure.Figure at 0x1165404e0>"
      ]
     },
     "metadata": {},
     "output_type": "display_data"
    }
   ],
   "source": [
    "# 散布図に近似直線､近似曲線を重ねてみる\n",
    "plt.scatter(oq, y, color='lightgray', label='data')               # 散布図を表示\n",
    "plt.plot(x, model_lin.predict(x), color='red', label='linear')       # 回帰直線を表示\n",
    "x_quad = quad.fit_transform(x)                                       # プロットのためのxも2変数変換する\n",
    "plt.plot(x, model_quad.predict(x_quad), color='green', label='quad') # 回帰曲線を表示（2次関数）\n",
    "plt.xlabel('OverallQual')                                                  # x軸のラベルを表示\n",
    "plt.ylabel('SalePrice')                                                   # y軸のラベルを表示\n",
    "plt.legend(loc = 'upper right')                                      # 凡例を表示\n",
    "plt.show()   "
   ]
  },
  {
   "cell_type": "markdown",
   "metadata": {},
   "source": [
    "う〜ん。続いて、三次関数!"
   ]
  },
  {
   "cell_type": "code",
   "execution_count": 12,
   "metadata": {},
   "outputs": [
    {
     "data": {
      "text/plain": [
       "array([[   1.,    6.,   36.,  216.],\n",
       "       [   1.,    5.,   25.,  125.],\n",
       "       [   1.,    6.,   36.,  216.],\n",
       "       ..., \n",
       "       [   1.,    6.,   36.,  216.],\n",
       "       [   1.,    4.,   16.,   64.],\n",
       "       [   1.,    4.,   16.,   64.]])"
      ]
     },
     "execution_count": 12,
     "metadata": {},
     "output_type": "execute_result"
    }
   ],
   "source": [
    "#三次関数の変数変換\n",
    "cubic = PolynomialFeatures(degree=3)#3次の多項式基底を生成\n",
    "oq_cubic = cubic.fit_transform(oq)#生成した基底関数で変数変換を実行\n",
    "oq_cubic"
   ]
  },
  {
   "cell_type": "code",
   "execution_count": 13,
   "metadata": {
    "collapsed": true
   },
   "outputs": [],
   "source": [
    "#ホールド・アウト法による分割\n",
    "oq_cubic_train,oq_cubic_test,_,_ = train_test_split(oq_cubic,y,test_size=0.3,random_state=0)"
   ]
  },
  {
   "cell_type": "code",
   "execution_count": 14,
   "metadata": {},
   "outputs": [
    {
     "data": {
      "text/plain": [
       "LinearRegression(copy_X=True, fit_intercept=True, n_jobs=1, normalize=False)"
      ]
     },
     "execution_count": 14,
     "metadata": {},
     "output_type": "execute_result"
    }
   ],
   "source": [
    "#線形回帰のインスタンスを生成\n",
    "model_cubic = LinearRegression()\n",
    "\n",
    "#変換後の変数を利用して実行\n",
    "model_cubic.fit(oq_cubic_train,y_train)"
   ]
  },
  {
   "cell_type": "code",
   "execution_count": 15,
   "metadata": {},
   "outputs": [
    {
     "data": {
      "image/png": "[encoded data removed]",
      "text/plain": [
       "<matplotlib.figure.Figure at 0x116594d68>"
      ]
     },
     "metadata": {},
     "output_type": "display_data"
    }
   ],
   "source": [
    "#散布図に近似直線、近似曲線を重ねてみる\n",
    "plt.scatter(oq,y,color='lightgray',label='data')#散布図を表示\n",
    "plt.plot(x,model_lin.predict(x),color='red',label='linear')#回帰直線を表示\n",
    "plt.plot(x,model_quad.predict(x_quad),color='green',label='quad')#回帰直線を表示(二次関数)\n",
    "x_cubic = cubic.fit_transform(x)#プロットのためのxも2変数変換する\n",
    "plt.plot(x,model_cubic.predict(x_cubic),color='blue',label='cubic')#回帰曲線を表示(二次関数)\n",
    "plt.xlabel('OverallQual')#x軸のラベルを表示\n",
    "plt.ylabel('SalePrice')#y軸のラベルを表示\n",
    "plt.legend(loc = 'upper right') #凡例を表示\n",
    "plt.show()#上記の内容でグラフを表示"
   ]
  },
  {
   "cell_type": "markdown",
   "metadata": {},
   "source": [
    "定量確認のために自由度調節済み決定係数を利用"
   ]
  },
  {
   "cell_type": "code",
   "execution_count": 16,
   "metadata": {
    "collapsed": true
   },
   "outputs": [],
   "source": [
    "#自由度調整済み決定係数\n",
    "#(決定係数、trainまたはtestのサンプル数、利用した特徴量の数)\n",
    "def adjusted(score,n_sample,n_features):\n",
    "    adjusted_score = 1 - (1 - score) * ((n_sample - 1) / (n_sample - n_features - 1))\n",
    "    return adjusted_score"
   ]
  },
  {
   "cell_type": "code",
   "execution_count": 17,
   "metadata": {},
   "outputs": [
    {
     "name": "stdout",
     "output_type": "stream",
     "text": [
      "adjusted_score R^2\n",
      "\n",
      "model_linear\n",
      "train: 0.615\n",
      "test: 0.647\n",
      "\n",
      "model_quad\n",
      "train: 0.671\n",
      "test: 0.691\n",
      "\n",
      "model_cubic\n",
      "train: 0.675\n",
      "test: 0.689\n"
     ]
    }
   ],
   "source": [
    "#自由度調節済み決定係数をtrainとtestに分けて出力\n",
    "print('adjusted_score R^2')\n",
    "print('')\n",
    "\n",
    "#線形回帰\n",
    "print('model_linear')\n",
    "print('train: %.3f' % adjusted(model_lin.score(oq_train,y_train),len(y_train),1))\n",
    "print('test: %.3f' % adjusted(model_lin.score(oq_test,y_test),len(y_test),1))\n",
    "print('')\n",
    "\n",
    "#二次関数\n",
    "print('model_quad')\n",
    "print('train: %.3f' % adjusted(model_quad.score(oq_quad_train,y_train),len(y_train),2))\n",
    "print('test: %.3f' % adjusted(model_quad.score(oq_quad_test,y_test),len(y_test),2))\n",
    "print('')\n",
    "      \n",
    "#三次関数\n",
    "print('model_cubic')\n",
    "print('train: %.3f' % adjusted(model_cubic.score(oq_cubic_train,y_train),len(y_train),3))\n",
    "print('test: %.3f' % adjusted(model_cubic.score(oq_cubic_test,y_test),len(y_test),3))"
   ]
  },
  {
   "cell_type": "markdown",
   "metadata": {},
   "source": [
    "重回帰分析より低い、まず7にいってない。。。。。。。"
   ]
  },
  {
   "cell_type": "code",
   "execution_count": 18,
   "metadata": {
    "collapsed": true
   },
   "outputs": [],
   "source": [
    "#OverallQual(一次)にGrLivAreaを加える\n",
    "X_lin = np.hstack((oq,gla))"
   ]
  },
  {
   "cell_type": "code",
   "execution_count": 19,
   "metadata": {},
   "outputs": [
    {
     "data": {
      "text/plain": [
       "LinearRegression(copy_X=True, fit_intercept=True, n_jobs=1, normalize=False)"
      ]
     },
     "execution_count": 19,
     "metadata": {},
     "output_type": "execute_result"
    }
   ],
   "source": [
    "#ホールド・アウト法によるデータの分割\n",
    "X_lin_train, X_lin_test, _, _ = train_test_split(X_lin, y, test_size = 0.3, random_state = 0)\n",
    "#線形回帰による学習\n",
    "model_lin_2 = LinearRegression()\n",
    "model_lin_2.fit(X_lin_train,y_train)"
   ]
  },
  {
   "cell_type": "code",
   "execution_count": 20,
   "metadata": {},
   "outputs": [],
   "source": [
    "# LSTAT（2次）にRMを加える\n",
    "X_quad = np.hstack((oq_quad, gla))"
   ]
  },
  {
   "cell_type": "code",
   "execution_count": 21,
   "metadata": {},
   "outputs": [
    {
     "data": {
      "text/plain": [
       "LinearRegression(copy_X=True, fit_intercept=True, n_jobs=1, normalize=False)"
      ]
     },
     "execution_count": 21,
     "metadata": {},
     "output_type": "execute_result"
    }
   ],
   "source": [
    "# ホールド・アウト法によるデータの分割\n",
    "X_quad_train, X_quad_test, _, _ = train_test_split(X_quad, y, test_size = 0.3, random_state = 0)\n",
    "# 線形回帰による学習\n",
    "model_quad_2 = LinearRegression()\n",
    "model_quad_2.fit(X_quad_train, y_train)"
   ]
  },
  {
   "cell_type": "code",
   "execution_count": 22,
   "metadata": {
    "collapsed": true
   },
   "outputs": [],
   "source": [
    "# LSTAT（3次）にRMを加える\n",
    "X_cubic = np.hstack((oq_cubic, gla))"
   ]
  },
  {
   "cell_type": "code",
   "execution_count": 23,
   "metadata": {},
   "outputs": [
    {
     "data": {
      "text/plain": [
       "LinearRegression(copy_X=True, fit_intercept=True, n_jobs=1, normalize=False)"
      ]
     },
     "execution_count": 23,
     "metadata": {},
     "output_type": "execute_result"
    }
   ],
   "source": [
    "# ホールド・アウト法によるデータの分割\n",
    "X_cubic_train, X_cubic_test, _, _ = train_test_split(X_cubic, y, test_size = 0.3, random_state = 0)\n",
    "# 線形回帰による学習\n",
    "model_cubic_2 = LinearRegression()\n",
    "model_cubic_2.fit(X_cubic_train, y_train)"
   ]
  },
  {
   "cell_type": "code",
   "execution_count": 24,
   "metadata": {},
   "outputs": [
    {
     "name": "stdout",
     "output_type": "stream",
     "text": [
      "adjusted R^2\n",
      "\n",
      "model_linear_2\n",
      "train: 0.724\n",
      "test : 0.689\n",
      "\n",
      "model_quad_2\n",
      "train: 0.761\n",
      "test : 0.722\n",
      "\n",
      "model_cubic_2\n",
      "train: 0.764\n",
      "test : 0.720\n"
     ]
    }
   ],
   "source": [
    "# 自由度調整済み決定係数をtrainとtestに分けて出力\n",
    "print('adjusted R^2')\n",
    "print('')\n",
    "\n",
    "# 線形回帰\n",
    "print('model_linear_2')\n",
    "print('train: %.3f' % adjusted(model_lin_2.score(X_lin_train, y_train), len(y_train), 2))\n",
    "print('test : %.3f' % adjusted(model_lin_2.score(X_lin_test, y_test), len(y_test), 2))\n",
    "print('')\n",
    "\n",
    "# 2次関数\n",
    "print('model_quad_2')\n",
    "print('train: %.3f' % adjusted(model_quad_2.score(X_quad_train, y_train), len(y_train), 3))\n",
    "print('test : %.3f' % adjusted(model_quad_2.score(X_quad_test, y_test), len(y_test), 3))\n",
    "print('')\n",
    "\n",
    "# 3次関数\n",
    "print('model_cubic_2')\n",
    "print('train: %.3f' % adjusted(model_cubic_2.score(X_cubic_train, y_train), len(y_train), 4))\n",
    "print('test : %.3f' % adjusted(model_cubic_2.score(X_cubic_test, y_test), len(y_test), 4))"
   ]
  },
  {
   "cell_type": "markdown",
   "metadata": {},
   "source": [
    "上がったからさらに追加してみる。"
   ]
  },
  {
   "cell_type": "code",
   "execution_count": 25,
   "metadata": {
    "collapsed": true
   },
   "outputs": [],
   "source": [
    "#OverallQual,GrLivArea(1次)にNeighborhood\tを加える\n",
    "X_lin = np.hstack((X_lin,nbh))"
   ]
  },
  {
   "cell_type": "code",
   "execution_count": 26,
   "metadata": {},
   "outputs": [
    {
     "data": {
      "text/plain": [
       "LinearRegression(copy_X=True, fit_intercept=True, n_jobs=1, normalize=False)"
      ]
     },
     "execution_count": 26,
     "metadata": {},
     "output_type": "execute_result"
    }
   ],
   "source": [
    "# ホールド・アウト法によるデータの分割\n",
    "X_lin_train, X_lin_test, _, _ = train_test_split(X_lin, y, test_size = 0.3, random_state = 0)\n",
    "# 線形回帰による学習\n",
    "model_lin_3 = LinearRegression()\n",
    "model_lin_3.fit(X_lin_train, y_train)"
   ]
  },
  {
   "cell_type": "code",
   "execution_count": 27,
   "metadata": {
    "collapsed": true
   },
   "outputs": [],
   "source": [
    "# OverallQual,GrLivArea（2次）にNeighborhoodを加える\n",
    "X_quad = np.hstack((X_quad,nbh ))"
   ]
  },
  {
   "cell_type": "code",
   "execution_count": 28,
   "metadata": {},
   "outputs": [
    {
     "data": {
      "text/plain": [
       "LinearRegression(copy_X=True, fit_intercept=True, n_jobs=1, normalize=False)"
      ]
     },
     "execution_count": 28,
     "metadata": {},
     "output_type": "execute_result"
    }
   ],
   "source": [
    "# ホールド・アウト法によるデータの分割\n",
    "X_quad_train, X_quad_test, _, _ = train_test_split(X_quad, y, test_size = 0.3, random_state = 0)\n",
    "# 線形回帰による学習\n",
    "model_quad_3 = LinearRegression()\n",
    "model_quad_3.fit(X_quad_train, y_train)"
   ]
  },
  {
   "cell_type": "code",
   "execution_count": 29,
   "metadata": {
    "collapsed": true
   },
   "outputs": [],
   "source": [
    "# OverallQual,GrLivArea（3次）にNeighborhoodを加える\n",
    "X_cubic = np.hstack((X_cubic, nbh))"
   ]
  },
  {
   "cell_type": "code",
   "execution_count": 30,
   "metadata": {},
   "outputs": [
    {
     "data": {
      "text/plain": [
       "LinearRegression(copy_X=True, fit_intercept=True, n_jobs=1, normalize=False)"
      ]
     },
     "execution_count": 30,
     "metadata": {},
     "output_type": "execute_result"
    }
   ],
   "source": [
    "# ホールド・アウト法によるデータの分割\n",
    "X_cubic_train, X_cubic_test, _, _ = train_test_split(X_cubic, y, test_size = 0.3, random_state = 0)\n",
    "# 線形回帰による学習\n",
    "model_cubic_3 = LinearRegression()\n",
    "model_cubic_3.fit(X_cubic_train, y_train)"
   ]
  },
  {
   "cell_type": "code",
   "execution_count": 31,
   "metadata": {},
   "outputs": [
    {
     "name": "stdout",
     "output_type": "stream",
     "text": [
      "adjusted R^2\n",
      "\n",
      "model_linear_3\n",
      "train: 0.772\n",
      "test : 0.737\n",
      "\n",
      "model_quad_3\n",
      "train: 0.804\n",
      "test : 0.774\n",
      "\n",
      "model_cubic_3\n",
      "train: 0.811\n",
      "test : 0.775\n"
     ]
    }
   ],
   "source": [
    "# 自由度調整済み決定係数をtrainとtestに分けて出力\n",
    "print('adjusted R^2')\n",
    "print('')\n",
    "\n",
    "# 線形回帰\n",
    "print('model_linear_3')\n",
    "print('train: %.3f' % adjusted(model_lin_3.score(X_lin_train, y_train), len(y_train), 2))\n",
    "print('test : %.3f' % adjusted(model_lin_3.score(X_lin_test, y_test), len(y_test), 2))\n",
    "print('')\n",
    "\n",
    "# 2次関数\n",
    "print('model_quad_3')\n",
    "print('train: %.3f' % adjusted(model_quad_3.score(X_quad_train, y_train), len(y_train), 3))\n",
    "print('test : %.3f' % adjusted(model_quad_3.score(X_quad_test, y_test), len(y_test), 3))\n",
    "print('')\n",
    "\n",
    "# 3次関数\n",
    "print('model_cubic_3')\n",
    "print('train: %.3f' % adjusted(model_cubic_3.score(X_cubic_train, y_train), len(y_train), 4))\n",
    "print('test : %.3f' % adjusted(model_cubic_3.score(X_cubic_test, y_test), len(y_test), 4))"
   ]
  },
  {
   "cell_type": "markdown",
   "metadata": {},
   "source": [
    "多項式にしたら重回帰分析より高い0.775になった！"
   ]
  },
  {
   "cell_type": "markdown",
   "metadata": {},
   "source": [
    "## 過学習になるかもしれないけどもう一つモデルを複雑にしてみる"
   ]
  },
  {
   "cell_type": "code",
   "execution_count": 32,
   "metadata": {
    "collapsed": true
   },
   "outputs": [],
   "source": [
    "#OverallQual,GrLivArea,Neighborhood\t(1次)にGarageCarsを加える\n",
    "X_lin = np.hstack((X_lin,gc))"
   ]
  },
  {
   "cell_type": "code",
   "execution_count": 33,
   "metadata": {},
   "outputs": [
    {
     "data": {
      "text/plain": [
       "LinearRegression(copy_X=True, fit_intercept=True, n_jobs=1, normalize=False)"
      ]
     },
     "execution_count": 33,
     "metadata": {},
     "output_type": "execute_result"
    }
   ],
   "source": [
    "# ホールド・アウト法によるデータの分割\n",
    "X_lin_train, X_lin_test, _, _ = train_test_split(X_lin, y, test_size = 0.3, random_state = 0)\n",
    "# 線形回帰による学習\n",
    "model_lin_4 = LinearRegression()\n",
    "model_lin_4.fit(X_lin_train, y_train)"
   ]
  },
  {
   "cell_type": "code",
   "execution_count": 34,
   "metadata": {
    "collapsed": true
   },
   "outputs": [],
   "source": [
    "# OverallQual,GrLivArea,Neighborhood(２次)にGarageCarsを加える\n",
    "X_quad = np.hstack((X_quad,gc))"
   ]
  },
  {
   "cell_type": "code",
   "execution_count": 35,
   "metadata": {},
   "outputs": [
    {
     "data": {
      "text/plain": [
       "LinearRegression(copy_X=True, fit_intercept=True, n_jobs=1, normalize=False)"
      ]
     },
     "execution_count": 35,
     "metadata": {},
     "output_type": "execute_result"
    }
   ],
   "source": [
    "# ホールド・アウト法によるデータの分割\n",
    "X_quad_train, X_quad_test, _, _ = train_test_split(X_quad, y, test_size = 0.3, random_state = 0)\n",
    "# 線形回帰による学習\n",
    "model_quad_4 = LinearRegression()\n",
    "model_quad_4.fit(X_quad_train, y_train)"
   ]
  },
  {
   "cell_type": "code",
   "execution_count": 36,
   "metadata": {
    "collapsed": true
   },
   "outputs": [],
   "source": [
    "# OverallQual,GrLivArea,Neighborhood（3次）にGarageCarsを加える\n",
    "X_cubic = np.hstack((X_cubic, gc))"
   ]
  },
  {
   "cell_type": "code",
   "execution_count": 37,
   "metadata": {},
   "outputs": [
    {
     "data": {
      "text/plain": [
       "LinearRegression(copy_X=True, fit_intercept=True, n_jobs=1, normalize=False)"
      ]
     },
     "execution_count": 37,
     "metadata": {},
     "output_type": "execute_result"
    }
   ],
   "source": [
    "# ホールド・アウト法によるデータの分割\n",
    "X_cubic_train, X_cubic_test, _, _ = train_test_split(X_cubic, y, test_size = 0.3, random_state = 0)\n",
    "# 線形回帰による学習\n",
    "model_cubic_4 = LinearRegression()\n",
    "model_cubic_4.fit(X_cubic_train, y_train)"
   ]
  },
  {
   "cell_type": "code",
   "execution_count": 38,
   "metadata": {},
   "outputs": [
    {
     "name": "stdout",
     "output_type": "stream",
     "text": [
      "adjusted R^2\n",
      "\n",
      "model_linear_4\n",
      "train: 0.791\n",
      "test : 0.760\n",
      "\n",
      "model_quad_4\n",
      "train: 0.817\n",
      "test : 0.787\n",
      "\n",
      "model_cubic_4\n",
      "train: 0.823\n",
      "test : 0.790\n"
     ]
    }
   ],
   "source": [
    "# 自由度調整済み決定係数をtrainとtestに分けて出力\n",
    "print('adjusted R^2')\n",
    "print('')\n",
    "\n",
    "# 線形回帰\n",
    "print('model_linear_4')\n",
    "print('train: %.3f' % adjusted(model_lin_4.score(X_lin_train, y_train), len(y_train), 2))\n",
    "print('test : %.3f' % adjusted(model_lin_4.score(X_lin_test, y_test), len(y_test), 2))\n",
    "print('')\n",
    "\n",
    "# 2次関数\n",
    "print('model_quad_4')\n",
    "print('train: %.3f' % adjusted(model_quad_4.score(X_quad_train, y_train), len(y_train), 3))\n",
    "print('test : %.3f' % adjusted(model_quad_4.score(X_quad_test, y_test), len(y_test), 3))\n",
    "print('')\n",
    "\n",
    "# 3次関数\n",
    "print('model_cubic_4')\n",
    "print('train: %.3f' % adjusted(model_cubic_4.score(X_cubic_train, y_train), len(y_train), 4))\n",
    "print('test : %.3f' % adjusted(model_cubic_4.score(X_cubic_test, y_test), len(y_test), 4))"
   ]
  },
  {
   "cell_type": "markdown",
   "metadata": {},
   "source": [
    "さらに0.790まで上がった！！"
   ]
  },
  {
   "cell_type": "markdown",
   "metadata": {},
   "source": [
    "もう一個いってみよう"
   ]
  },
  {
   "cell_type": "code",
   "execution_count": 40,
   "metadata": {
    "scrolled": true
   },
   "outputs": [
    {
     "name": "stdout",
     "output_type": "stream",
     "text": [
      "adjusted R^2\n",
      "\n",
      "model_linear_5\n",
      "train: 0.798\n",
      "test : 0.765\n",
      "\n",
      "model_quad_5\n",
      "train: 0.819\n",
      "test : 0.787\n",
      "\n",
      "model_cubic_5\n",
      "train: 0.825\n",
      "test : 0.790\n"
     ]
    }
   ],
   "source": [
    "#OverallQual,GrLivArea,Neighborhood,GarageCarsにExterQualを(1次)に加える\n",
    "X_lin = np.hstack((X_lin,eq))\n",
    "# ホールド・アウト法によるデータの分割\n",
    "X_lin_train, X_lin_test, _, _ = train_test_split(X_lin, y, test_size = 0.3, random_state = 0)\n",
    "# 線形回帰による学習\n",
    "model_lin_5 = LinearRegression()\n",
    "model_lin_5.fit(X_lin_train, y_train)\n",
    "#OverallQual,GrLivArea,Neighborhood,GarageCarsにExterQualを(2次)に加える\n",
    "X_quad = np.hstack((X_quad,eq))\n",
    "# ホールド・アウト法によるデータの分割\n",
    "X_quad_train, X_quad_test, _, _ = train_test_split(X_quad, y, test_size = 0.3, random_state = 0)\n",
    "# 線形回帰による学習\n",
    "model_quad_5 = LinearRegression()\n",
    "model_quad_5.fit(X_quad_train, y_train)\n",
    "#OverallQual,GrLivArea,Neighborhood,GarageCarsにExterQualを(3次)に加える\n",
    "X_cubic = np.hstack((X_cubic, eq))\n",
    "# ホールド・アウト法によるデータの分割\n",
    "X_cubic_train, X_cubic_test, _, _ = train_test_split(X_cubic, y, test_size = 0.3, random_state = 0)\n",
    "# 線形回帰による学習\n",
    "model_cubic_5 = LinearRegression()\n",
    "model_cubic_5.fit(X_cubic_train, y_train)\n",
    "# 自由度調整済み決定係数をtrainとtestに分けて出力\n",
    "print('adjusted R^2')\n",
    "print('')\n",
    "\n",
    "# 線形回帰\n",
    "print('model_linear_5')\n",
    "print('train: %.3f' % adjusted(model_lin_5.score(X_lin_train, y_train), len(y_train), 2))\n",
    "print('test : %.3f' % adjusted(model_lin_5.score(X_lin_test, y_test), len(y_test), 2))\n",
    "print('')\n",
    "\n",
    "# 2次関数\n",
    "print('model_quad_5')\n",
    "print('train: %.3f' % adjusted(model_quad_5.score(X_quad_train, y_train), len(y_train), 3))\n",
    "print('test : %.3f' % adjusted(model_quad_5.score(X_quad_test, y_test), len(y_test), 3))\n",
    "print('')\n",
    "\n",
    "# 3次関数\n",
    "print('model_cubic_5')\n",
    "print('train: %.3f' % adjusted(model_cubic_5.score(X_cubic_train, y_train), len(y_train), 4))\n",
    "print('test : %.3f' % adjusted(model_cubic_5.score(X_cubic_test, y_test), len(y_test), 4))"
   ]
  },
  {
   "cell_type": "markdown",
   "metadata": {},
   "source": [
    "上がらなかったのでここで終了です。"
   ]
  }
 ],
 "metadata": {
  "kernelspec": {
   "display_name": "Python 3",
   "language": "python",
   "name": "python3"
  },
  "language_info": {
   "codemirror_mode": {
    "name": "ipython",
    "version": 3
   },
   "file_extension": ".py",
   "mimetype": "text/x-python",
   "name": "python",
   "nbconvert_exporter": "python",
   "pygments_lexer": "ipython3",
   "version": "3.6.3"
  }
 },
 "nbformat": 4,
 "nbformat_minor": 2
}
